{
 "cells": [
  {
   "cell_type": "markdown",
   "id": "7a2f4c7f",
   "metadata": {},
   "source": [
    "# Weekly activity\n",
    "1. Convert the code chunk found under section Divide an image into smaller patches using cropping into a function with the following signature:\n",
    "```\n",
    "crop_grid(img, num_horizontal_grid, num_vertical_grid, line_color)\n",
    "# img is the source image\n",
    "# num_horizontal_grid and num_vertical_grid are the number of patches along x and y axes.\n",
    "# line_color is the color of the grid line.\n",
    "# The output of the function should be image with grids\n",
    "```\n",
    "2. Display image sequences of smooth transition of two images with different values of α. Refer to code in section \"Image blending\". Use \"lena.jfif\" and \"coins.jfif\" as the base images.\n",
    "3. Rotate image by 45 degrees without cropping the sides of the image. (Hint: There are 2 strategies to tackle these problems). Use \"lena.jfif\" as the input image.\n",
    "- Use external libraries imutils.\n",
    "- Modify the transformation matrix.\n",
    "4. Use the images with titles: \"flower.jfif\" and \"native-bee.png\". I want to put flower above an image. If I add two images, it will change color. If I blend it, I get a transparent effect. But I want it to be opaque. If it was a rectangular region, we could use the ROI as we did in the previous section. But flower is not a rectangular region. This is where bitwise operations, like AND, OR, NOT and XOR really come in handy. The associated functions are `cv.bitwise_and()`, `cv.bitwise_or()` and `cv.bitwise_not()`. You need to use `cv.threshold` function to segment the flower. Please refer to online documentation for more info. The result should resemble the following:"
   ]
  },
  {
   "cell_type": "markdown",
   "id": "0a9bab3f",
   "metadata": {},
   "source": [
    "1. function\n",
    "2. external for loop OR ??\n",
    "3. imutils\n",
    "4. https://docs.opencv.org/4.x/d2/de8/group__core__array.html#ga60b4d04b251ba5eb1392c34425497e14"
   ]
  },
  {
   "cell_type": "code",
   "execution_count": null,
   "id": "5264a661",
   "metadata": {},
   "outputs": [],
   "source": []
  },
  {
   "cell_type": "code",
   "execution_count": null,
   "id": "5f502889",
   "metadata": {},
   "outputs": [],
   "source": []
  },
  {
   "cell_type": "code",
   "execution_count": null,
   "id": "8e1db4fc",
   "metadata": {},
   "outputs": [],
   "source": []
  },
  {
   "cell_type": "code",
   "execution_count": null,
   "id": "7c3b2def",
   "metadata": {},
   "outputs": [],
   "source": []
  },
  {
   "cell_type": "code",
   "execution_count": null,
   "id": "f711745c",
   "metadata": {},
   "outputs": [],
   "source": []
  }
 ],
 "metadata": {
  "kernelspec": {
   "display_name": "Python 3 (ipykernel)",
   "language": "python",
   "name": "python3"
  },
  "language_info": {
   "codemirror_mode": {
    "name": "ipython",
    "version": 3
   },
   "file_extension": ".py",
   "mimetype": "text/x-python",
   "name": "python",
   "nbconvert_exporter": "python",
   "pygments_lexer": "ipython3",
   "version": "3.8.8"
  }
 },
 "nbformat": 4,
 "nbformat_minor": 5
}
